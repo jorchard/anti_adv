{
 "cells": [
  {
   "cell_type": "markdown",
   "metadata": {},
   "source": [
    "# Generativity and Adversarial Gradients\n",
    "**Purpose:** To investigate the relationship between the existence of adversarial inputs, adversarial gradients, and the ability of a network to generate images by running the network backwards.\n",
    "\n",
    "It creates a network that performs classification in the forward direction, but also performs generation when run in the backward direction. It uses symmetric connection weights for this. ie. $W_\\text{backward} = \\left[ W_\\text{forward} \\right]^T$.\n",
    "\n",
    "Test"
   ]
  },
  {
   "cell_type": "code",
   "execution_count": 1,
   "metadata": {},
   "outputs": [],
   "source": [
    "# Standard imports\n",
    "import numpy as np\n",
    "import torch\n",
    "import torch.nn as nn\n",
    "import torchvision\n",
    "import torchvision.transforms as T\n",
    "import matplotlib.pyplot as plt\n",
    "from tqdm import tqdm"
   ]
  },
  {
   "cell_type": "code",
   "execution_count": 2,
   "metadata": {},
   "outputs": [],
   "source": [
    "# In case you are fortunate enough to have access to a GPU...\n",
    "device = 'cuda' if torch.cuda.is_available() else 'cpu'"
   ]
  },
  {
   "cell_type": "code",
   "execution_count": null,
   "metadata": {},
   "outputs": [],
   "source": []
  },
  {
   "cell_type": "markdown",
   "metadata": {},
   "source": [
    "# Dataset: MNIST"
   ]
  },
  {
   "cell_type": "code",
   "execution_count": 3,
   "metadata": {
    "tags": []
   },
   "outputs": [],
   "source": [
    "# You can change img_size to 14 if you want to use smaller (14x14) images.\n",
    "img_size = 28\n",
    "ds_full = torchvision.datasets.MNIST('./files/', train=True, download=True,\n",
    "                            transform=T.Compose([\n",
    "                                T.Resize((img_size,img_size)),\n",
    "                                T.ToTensor(),\n",
    "                                T.Lambda((lambda x: torch.flatten(x))),\n",
    "                            ]))"
   ]
  },
  {
   "cell_type": "code",
   "execution_count": 4,
   "metadata": {},
   "outputs": [],
   "source": [
    "# You can change img_size to 14 if you want to use smaller (14x14) images.\n",
    "img_size = 28\n",
    "ds_test = torchvision.datasets.MNIST('./files/', train=False, download=True,\n",
    "                            transform=T.Compose([\n",
    "                                T.Resize((img_size,img_size)),\n",
    "                                T.ToTensor(),\n",
    "                                T.Lambda((lambda x: torch.flatten(x))),\n",
    "                            ]))"
   ]
  },
  {
   "cell_type": "code",
   "execution_count": 5,
   "metadata": {},
   "outputs": [],
   "source": [
    "def draw(X):\n",
    "    img_size = 28\n",
    "    def draw_single(x): \n",
    "        with torch.no_grad():\n",
    "            plt.imshow(x.detach().cpu().numpy().reshape((img_size, img_size)), cmap='gray');\n",
    "            plt.axis('off');\n",
    "    if len(X.shape)==4 or len(X.shape)==2:  # display a batch\n",
    "        N = X.shape[0]\n",
    "        plt.figure(figsize=(15,3))\n",
    "        for k,xx in enumerate(X):\n",
    "            plt.subplot(1,10,k+1)\n",
    "            draw_single(xx)\n",
    "    else:\n",
    "        draw_single(X)"
   ]
  },
  {
   "cell_type": "code",
   "execution_count": 6,
   "metadata": {},
   "outputs": [
    {
     "output_type": "display_data",
     "data": {
      "text/plain": "<Figure size 432x288 with 1 Axes>",
      "image/svg+xml": "<?xml version=\"1.0\" encoding=\"utf-8\" standalone=\"no\"?>\n<!DOCTYPE svg PUBLIC \"-//W3C//DTD SVG 1.1//EN\"\n  \"http://www.w3.org/Graphics/SVG/1.1/DTD/svg11.dtd\">\n<!-- Created with matplotlib (https://matplotlib.org/) -->\n<svg height=\"231.84pt\" version=\"1.1\" viewBox=\"0 0 231.84 231.84\" width=\"231.84pt\" xmlns=\"http://www.w3.org/2000/svg\" xmlns:xlink=\"http://www.w3.org/1999/xlink\">\n <defs>\n  <style type=\"text/css\">\n*{stroke-linecap:butt;stroke-linejoin:round;}\n  </style>\n </defs>\n <g id=\"figure_1\">\n  <g id=\"patch_1\">\n   <path d=\"M 0 231.84 \nL 231.84 231.84 \nL 231.84 0 \nL 0 0 \nz\n\" style=\"fill:none;\"/>\n  </g>\n  <g id=\"axes_1\">\n   <g clip-path=\"url(#p35f253e8d4)\">\n    <image height=\"218\" id=\"image47c4018bab\" transform=\"scale(1 -1)translate(0 -218)\" width=\"218\" x=\"7.2\" xlink:href=\"data:image/png;base64,\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\" y=\"-6.64\"/>\n   </g>\n  </g>\n </g>\n <defs>\n  <clipPath id=\"p35f253e8d4\">\n   <rect height=\"217.44\" width=\"217.44\" x=\"7.2\" y=\"7.2\"/>\n  </clipPath>\n </defs>\n</svg>\n",
      "image/png": "[encoded data removed]"
     },
     "metadata": {
      "needs_background": "light"
     }
    }
   ],
   "source": [
    "x,t = ds_full.__getitem__(50000)\n",
    "draw(x)"
   ]
  },
  {
   "cell_type": "code",
   "execution_count": 8,
   "metadata": {},
   "outputs": [],
   "source": [
    "#ds = ds_full\n",
    "ds = torch.utils.data.Subset(ds_full, range(1024))"
   ]
  },
  {
   "cell_type": "markdown",
   "metadata": {},
   "source": [
    "# Obtain trained network\n",
    "You can train the network yourself. However, if you would rather skip that part, a pre-trained network is supplied. That is what will be run by default."
   ]
  },
  {
   "cell_type": "code",
   "execution_count": 15,
   "metadata": {},
   "outputs": [],
   "source": [
    "class MyNet(nn.Module):\n",
    "    '''\n",
    "     net = MyNet(img_size=28)\n",
    "     \n",
    "     Creates a neural network to do classification on MNIST.\n",
    "     It assumes the images will be (img_size)x(img_size).\n",
    "     \n",
    "     It projects to a latent space.\n",
    "     From that latent space, it:\n",
    "      1) projects to an output classification layer (log softmax), and\n",
    "      2) projects back down through the network to a reconstruction of the input.\n",
    "     \n",
    "    '''\n",
    "    def __init__(self, img_size=28, latent_dim=5):\n",
    "        super().__init__()\n",
    "        \n",
    "        # Discriminative network\n",
    "        self.D = nn.ModuleList()\n",
    "        \n",
    "        # Input -> Hidden 1\n",
    "        self.D.append(nn.Linear(img_size**2, 100))\n",
    "        self.D.append(nn.ReLU())\n",
    "        \n",
    "        # Hidden 1 -> Hidden 2\n",
    "        self.D.append(nn.Linear(100, latent_dim))\n",
    "        self.D.append(nn.ReLU())\n",
    "        \n",
    "        # Classifier\n",
    "        self.classifier = nn.Sequential(\n",
    "                            nn.Linear(latent_dim, 10),\n",
    "                            nn.LogSoftmax(dim=-1),\n",
    "                            )\n",
    "\n",
    "        # The generative network\n",
    "        self.G = nn.ModuleList()\n",
    "        \n",
    "        # Hidden 2 -> Hidden 1\n",
    "        self.G.append(nn.Linear(latent_dim, 100))\n",
    "        self.G.append(nn.ReLU())\n",
    "        \n",
    "        # Hidden 1 -> Input\n",
    "        self.G.append(nn.Linear(100, img_size**2))\n",
    "        self.G.append(nn.Sigmoid())\n",
    "        \n",
    "        # Tie the weights of D and G\n",
    "        self.G[-2].weight.data = self.D[0].weight.data.transpose(1,0)\n",
    "        self.G[-4].weight.data = self.D[2].weight.data.transpose(1,0)\n",
    "        self.G[-4].bias.data = self.D[0].bias.data\n",
    "        \n",
    "        self.classifier_loss = nn.NLLLoss()\n",
    "        self.recon_loss = nn.BCELoss()\n",
    "        self.losses = []\n",
    "        self.to(device)\n",
    "        \n",
    "        \n",
    "    def forward(self, x):\n",
    "        '''Latent -> Classification'''\n",
    "        return self.classifier(self.discriminate(x))\n",
    "    \n",
    "    def ae(self,x):\n",
    "        return self.generate(self.discriminate(x))\n",
    "    \n",
    "    def discriminate(self, x):\n",
    "        '''Input -> Latent'''\n",
    "        for d in self.D:\n",
    "            x = d(x)\n",
    "        return x\n",
    "    \n",
    "    def generate(self, z):\n",
    "        '''\n",
    "         Latent -> Input\n",
    "         x_had = net.generate(z)\n",
    "         \n",
    "         Runs the network in reverse, generating a batch of inputs from\n",
    "         a batch of latent vectors.\n",
    "         \n",
    "         Inputs:\n",
    "          z      (D,latent_dim) tensor of latent vectors\n",
    "          \n",
    "         Outputs:\n",
    "          x_hat  (D,784) tensor containing the batch of inputs\n",
    "        '''\n",
    "        for g in self.G:\n",
    "            z = g(z)\n",
    "        return z\n",
    "    \n",
    "        \n",
    "    def learn(self, dl, optimizer=None, epochs=10, beta=0.):\n",
    "        '''\n",
    "         net.learn(dl, optimizer=None, epochs=10, beta=0.)\n",
    "         \n",
    "         Train the network on the dataset represented by the DataLoader dl.\n",
    "         The default optimizer is Adam().\n",
    "         \n",
    "         The targets for the dataset are assumed to be class indices.\n",
    "         \n",
    "         beta is the weight for the reconstruction loss.\n",
    "        '''\n",
    "        if optimizer is None:\n",
    "            print('Need to specify an optimizer')\n",
    "            return\n",
    "        \n",
    "        for epoch in tqdm(range(epochs)):\n",
    "            total_loss = 0.\n",
    "            count = 0.\n",
    "            for x, t in dl:\n",
    "                x = x.to(device)   # for use with a GPU\n",
    "                t = t.to(device)\n",
    "                z = self.discriminate(x)\n",
    "                y = self.classifier(z)\n",
    "                xhat = self.generate(z)\n",
    "                loss = self.classifier_loss(y, t) + beta*self.recon_loss(xhat, x)\n",
    "                optimizer.zero_grad()\n",
    "                loss.backward()\n",
    "                optimizer.step()\n",
    "                total_loss += loss.item()*len(t)\n",
    "                count += 1.\n",
    "            self.losses.append(total_loss/len(dl.dataset))\n",
    "            #print(f'Epoch: {epoch}, loss: {total_loss/count}')\n",
    "        plt.figure(figsize=(4,4))\n",
    "        plt.plot(self.losses); plt.yscale('log');"
   ]
  },
  {
   "cell_type": "code",
   "execution_count": 16,
   "metadata": {},
   "outputs": [],
   "source": [
    "net = MyNet(img_size, latent_dim=8)"
   ]
  },
  {
   "cell_type": "code",
   "execution_count": 18,
   "metadata": {},
   "outputs": [
    {
     "name": "stderr",
     "output_type": "stream",
     "text": [
      "100%|██████████| 50/50 [00:09<00:00,  5.30it/s]\n"
     ]
    },
    {
     "data": {
      "image/png": "[encoded data removed]",
      "text/plain": [
       "<Figure size 288x288 with 1 Axes>"
      ]
     },
     "metadata": {
      "needs_background": "light"
     },
     "output_type": "display_data"
    }
   ],
   "source": [
    "dl = torch.utils.data.DataLoader(ds, batch_size=32, shuffle=True)\n",
    "# Uncomment the next line if you want to train it yourself.\n",
    "net.learn(dl, optimizer=torch.optim.Adam(net.parameters(), lr=0.001), epochs=50, beta=2.)"
   ]
  },
  {
   "cell_type": "code",
   "execution_count": 10,
   "metadata": {},
   "outputs": [],
   "source": [
    "# Uncomment this line to save your network.\n",
    "#torch.save(net.cpu(), 'mnist_trained.pt')"
   ]
  },
  {
   "cell_type": "code",
   "execution_count": 13,
   "metadata": {},
   "outputs": [],
   "source": [
    "# Use the line below to load a pre-trained network from a file.\n",
    "# Note that the MyNet class should be defined for this to work.\n",
    "#net = torch.load('mnist_trained.pt').to(device)"
   ]
  },
  {
   "cell_type": "code",
   "execution_count": 19,
   "metadata": {},
   "outputs": [
    {
     "name": "stdout",
     "output_type": "stream",
     "text": [
      "Training Accuracy = 100.00%\n",
      "    Test Accuracy = 89.79%\n"
     ]
    }
   ],
   "source": [
    "# If you'd like some confidence that the network is well trained, you can\n",
    "# test its accuracy.\n",
    "# The supplied network should have a test accuracy over 97%.\n",
    "\n",
    "def accuracy(net, dl):\n",
    "    total_correct = 0.\n",
    "    for x,t in dl:\n",
    "        y = net(x.to(device))\n",
    "        blah = torch.argmax(y.cpu(), dim=1)\n",
    "        total_correct += torch.sum(blah==t).cpu().item()\n",
    "    return total_correct/len(dl.dataset)\n",
    "\n",
    "dl_test = torch.utils.data.DataLoader(ds_test, batch_size=256)\n",
    "acc = accuracy(net, dl)\n",
    "print(f'Training Accuracy = {acc*100.:0.2f}%')\n",
    "acc = accuracy(net, dl_test)\n",
    "print(f'    Test Accuracy = {acc*100.:0.2f}%')"
   ]
  },
  {
   "cell_type": "code",
   "execution_count": 24,
   "metadata": {},
   "outputs": [
    {
     "data": {
      "image/png": "[encoded data removed]",
      "text/plain": [
       "<Figure size 1080x216 with 5 Axes>"
      ]
     },
     "metadata": {
      "needs_background": "light"
     },
     "output_type": "display_data"
    },
    {
     "data": {
      "image/png": "[encoded data removed]",
      "text/plain": [
       "<Figure size 1080x216 with 5 Axes>"
      ]
     },
     "metadata": {
      "needs_background": "light"
     },
     "output_type": "display_data"
    }
   ],
   "source": [
    "x,t = next(iter(dl))\n",
    "y = net.generate(net.discriminate(x))\n",
    "draw(x[:5])\n",
    "draw(y[:5])"
   ]
  },
  {
   "cell_type": "markdown",
   "metadata": {},
   "source": [
    "# Running the network backwards"
   ]
  },
  {
   "cell_type": "code",
   "execution_count": 25,
   "metadata": {},
   "outputs": [],
   "source": [
    "# Choose an output\n",
    "x, t = next(iter(dl))"
   ]
  },
  {
   "cell_type": "code",
   "execution_count": 27,
   "metadata": {
    "scrolled": true
   },
   "outputs": [
    {
     "data": {
      "image/png": "[encoded data removed]",
      "text/plain": [
       "<Figure size 1080x216 with 10 Axes>"
      ]
     },
     "metadata": {
      "needs_background": "light"
     },
     "output_type": "display_data"
    }
   ],
   "source": [
    "draw(x[:10])"
   ]
  },
  {
   "cell_type": "markdown",
   "metadata": {},
   "source": [
    "# This is as far as I got on April 19. - JO"
   ]
  },
  {
   "cell_type": "markdown",
   "metadata": {},
   "source": [
    "# A. `fgsm` Method"
   ]
  },
  {
   "cell_type": "code",
   "execution_count": 28,
   "metadata": {},
   "outputs": [],
   "source": [
    "def fgsm(net, x, t, eps=0.01, targ=False):\n",
    "    '''\n",
    "        x_adv = FGSM(net, x, t, eps=0.01, targ=False)\n",
    "        \n",
    "        Performs the Fast Gradient Sign Method, perturbing each input by\n",
    "        eps (in infinity norm) in an attempt to have it misclassified.\n",
    "        \n",
    "        Inputs:\n",
    "          net    PyTorch Module object\n",
    "          x      DxI tensor of a batch of inputs\n",
    "          t      tensor of D corresponding class indices\n",
    "          eps    the maximum infinity-norm perturbation from the input\n",
    "          targ   Boolean, indicating if the FGSM is targetted\n",
    "                   - if targ is False, then t is considered to be the true\n",
    "                     class of the input, and FGSM will work to increase the cost\n",
    "                     for that target\n",
    "                   - if targ is True, then t is considered to be the target\n",
    "                     class for the perturbation, and FGSM will work to decrease the\n",
    "                     cost of the output for that target class\n",
    "        \n",
    "        Output:\n",
    "          x_adv  tensor of a batch of adversarial inputs, the same size as x\n",
    "    '''\n",
    "\n",
    "    # Grading Notes:\n",
    "    #\n",
    "    # Criterion 1\n",
    "    # - Did they declare requires_grad=True for x?\n",
    "    # - Is the gradient update on x_adv correct?\n",
    "    #\n",
    "    # Criterion 2\n",
    "    # - Are they using the sign of the adv gradient?\n",
    "    # - Is x_adv within eps of x?\n",
    "    #\n",
    "    # Criterion 3\n",
    "    # - Did they handle targetted/untargetted options correctly?\n",
    "    # - Do they change the sign of the increment accordingly?\n",
    "    #\n",
    "    \n",
    "    # Set the sign of the gradient-sign update [!!]\n",
    "    signed_eps = -eps if targ else eps\n",
    "    # If targetted, signed_eps should be negative\n",
    "    # If not targetted, signed_eps should be positive\n",
    "    # Tell PyTorch that we want to track the gradient all the way down to the input\n",
    "    x.requires_grad = True\n",
    "    # Feedforward\n",
    "    y = net(x)\n",
    "    # Compute loss and propagate gradients\n",
    "    loss = net.loss_fcn(y, t)\n",
    "    net.zero_grad()\n",
    "    loss.backward()\n",
    "    # The no_grad() is not really necessary\n",
    "    with torch.no_grad():\n",
    "        # Add +/-eps to each pixel\n",
    "        x_adv = x + signed_eps * torch.sign(x.grad)\n",
    "                \n",
    "            \n",
    "    return x_adv"
   ]
  },
  {
   "cell_type": "markdown",
   "metadata": {},
   "source": [
    "# B. Untargetted"
   ]
  },
  {
   "cell_type": "code",
   "execution_count": 29,
   "metadata": {},
   "outputs": [],
   "source": [
    "dl_all = torch.utils.data.DataLoader(ds, batch_size=len(ds), shuffle=False)"
   ]
  },
  {
   "cell_type": "code",
   "execution_count": 18,
   "metadata": {},
   "outputs": [],
   "source": [
    "# Grading Notes:\n",
    "# - Did they select one of each digit?\n",
    "# - Did they call fgsm properly (eps=0.05)?\n",
    "# - Did they display:\n",
    "#    - the probability for the true class?\n",
    "#    - the predicted class of the adversarial input?\n",
    "#    - the probability for the predicted class?\n",
    "#    - the adversarial images themselves?\n",
    "#\n",
    "# Extract 10 digits from MNIST classified correctly by the network\n",
    "# It is OK to just hardcode 10 digits and show they are classified correctly.\n",
    "x_class = []\n",
    "for i in range(0, 10):\n",
    "    while True:\n",
    "        j = np.random.randint(0, len(ds))\n",
    "        x,t = ds_full.__getitem__(j)\n",
    "        if t == i:\n",
    "            y = net(x.to(device))\n",
    "            if torch.argmax(y) == i:\n",
    "                x_class.append(j)\n",
    "                break\n",
    "print(x_class)\n",
    "\n",
    "# Create a batch with those 10 samples\n",
    "ds_digits = torch.utils.data.Subset(ds_full, x_class)\n",
    "dl_digits = torch.utils.data.DataLoader(ds_digits, batch_size=len(ds_digits))\n",
    "x,t = next(iter(dl_digits))\n"
   ]
  },
  {
   "cell_type": "code",
   "execution_count": 19,
   "metadata": {},
   "outputs": [],
   "source": [
    "# Call fgsm on that batch\n",
    "x_adv = fgsm(net, x, t, eps=0.05, targ=False)\n"
   ]
  },
  {
   "cell_type": "code",
   "execution_count": 20,
   "metadata": {},
   "outputs": [],
   "source": [
    "plt.figure(figsize=(14,7))\n",
    "y = torch.exp(net(x_adv))\n",
    "for n,xx in enumerate(x_adv):\n",
    "    k = torch.argmax(y[n])\n",
    "    plt.subplot(2,5,n+1); draw(xx);\n",
    "    plt.title(f'y_{t[n]} = {y[n,t[n]]:0.5f}\\ny_{k} = {y[n,k]:0.5f}', fontsize=16)\n",
    "plt.tight_layout()\n",
    "#plt.savefig('untargetted_adv.pdf')\n"
   ]
  },
  {
   "cell_type": "markdown",
   "metadata": {
    "heading_collapsed": true
   },
   "source": [
    "# C. Targetted"
   ]
  },
  {
   "cell_type": "code",
   "execution_count": 21,
   "metadata": {
    "hidden": true
   },
   "outputs": [],
   "source": [
    "# Grading Notes:\n",
    "# - Did they run fgsm properly (eps=0.05)?\n",
    "# - Are the 3 adversarial inputs misclassified?\n",
    "# - Did they display the probability of the incorrect class?\n",
    "# - Did they display the adversarial image?\n",
    "\n",
    "# Create a batch with 3 different digits\n",
    "ds_select = torch.utils.data.Subset(ds_full, [22, 35, 50])\n",
    "dl_select = torch.utils.data.DataLoader(ds_select, batch_size=len(ds_select), shuffle=False)\n",
    "x,t = next(iter(dl_select))\n",
    "# Run targetted fgsm on those digits...\n",
    "targets = torch.tensor([7, 6, 8])\n",
    "x_adv = fgsm(net, x, targets, eps=0.05, targ=True)\n",
    "\n",
    "# ... and display the results.\n",
    "y = torch.exp(net(x_adv))\n",
    "plt.figure(figsize=(12,4))\n",
    "for n,xx in enumerate(x_adv):\n",
    "    k = torch.argmax(y[n])\n",
    "    plt.subplot(1,3,n+1); draw(xx);\n",
    "    plt.title(f'y_{k} = {y[n,k]:0.3f}', fontsize=20);\n",
    "plt.tight_layout()\n",
    "#plt.savefig('targetted_adv.pdf');\n"
   ]
  },
  {
   "cell_type": "code",
   "execution_count": null,
   "metadata": {
    "hidden": true
   },
   "outputs": [],
   "source": []
  }
 ],
 "metadata": {
  "kernelspec": {
   "name": "python374jvsc74a57bd0dca0ade3e726a953b501b15e8e990130d2b7799f14cfd9f4271676035ebe5511",
   "display_name": "Python 3.7.4 64-bit (conda)"
  },
  "language_info": {
   "codemirror_mode": {
    "name": "ipython",
    "version": 3
   },
   "file_extension": ".py",
   "mimetype": "text/x-python",
   "name": "python",
   "nbconvert_exporter": "python",
   "pygments_lexer": "ipython3",
   "version": "3.7.4"
  }
 },
 "nbformat": 4,
 "nbformat_minor": 4
}