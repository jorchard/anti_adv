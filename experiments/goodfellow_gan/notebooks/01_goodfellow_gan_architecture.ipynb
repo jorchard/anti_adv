{
 "cells": [
  {
   "cell_type": "markdown",
   "metadata": {},
   "source": [
    "# 01: Goodfellow GAN Architecture Setup"
   ]
  },
  {
   "cell_type": "markdown",
   "metadata": {},
   "source": [
    "Purpose: this notebook is the workflow to creating the `GoodfellowGan()` arthictecture for the adversarial package. Note that this is done iteratively between this notebook and within the source package `adversarial/networks.py` - this notebook serves as a mental workthrough for reference and is not intended for experimental runs and may not flow linearly. "
   ]
  },
  {
   "cell_type": "markdown",
   "metadata": {},
   "source": [
    "# Imports"
   ]
  },
  {
   "cell_type": "code",
   "execution_count": 1,
   "metadata": {
    "scrolled": true
   },
   "outputs": [],
   "source": [
    "from typing import Tuple\n",
    "\n",
    "import os\n",
    "\n",
    "import torch\n",
    "from torch import nn\n",
    "import torchvision\n",
    "\n",
    "\n",
    "from adversarial.networks import (GoodfellowG,\n",
    "                                  GoodfellowD,\n",
    "                                  GoodfellowGAN)\n",
    "\n",
    "# plotting\n",
    "import matplotlib.pyplot as plt\n",
    "\n",
    "%load_ext autoreload\n",
    "%autoreload 2"
   ]
  },
  {
   "cell_type": "markdown",
   "metadata": {},
   "source": [
    "# Globals"
   ]
  },
  {
   "cell_type": "code",
   "execution_count": 2,
   "metadata": {},
   "outputs": [
    {
     "name": "stdout",
     "output_type": "stream",
     "text": [
      "using DEVICE ='cpu'\n"
     ]
    }
   ],
   "source": [
    "# Directories\n",
    "EXP_DATA = os.path.abspath(os.path.join(\"..\", \"data\", \"01_raw\"))\n",
    "\n",
    "directories = [EXP_DATA]\n",
    "\n",
    "# CUDA availability    \n",
    "DEVICE = torch.device(0) if torch.cuda.is_available() else 'cpu'\n",
    "print(f\"using {DEVICE =}\")"
   ]
  },
  {
   "cell_type": "code",
   "execution_count": 3,
   "metadata": {},
   "outputs": [],
   "source": [
    "for p in directories:\n",
    "    if not os.path.exists(p):\n",
    "        try:\n",
    "            os.makedirs(p)\n",
    "        except FileExistsError:\n",
    "            print(\"p exists and was somehow uncaught\")"
   ]
  },
  {
   "cell_type": "markdown",
   "metadata": {},
   "source": [
    "# Data"
   ]
  },
  {
   "cell_type": "markdown",
   "metadata": {},
   "source": [
    "The torchvision MNIST dataset should be just fine. "
   ]
  },
  {
   "cell_type": "code",
   "execution_count": 4,
   "metadata": {},
   "outputs": [],
   "source": [
    "img_size = 28\n",
    "ds_train = torchvision.datasets.MNIST(EXP_DATA, train=True, download=True,\n",
    "                                transform=torchvision.transforms.Compose([\n",
    "                                torchvision.transforms.Resize((img_size,img_size)),\n",
    "                                torchvision.transforms.ToTensor(),\n",
    "                                torchvision.transforms.Lambda((lambda x: torch.flatten(x))),\n",
    "                            ]))\n",
    "ds_test = torchvision.datasets.MNIST(EXP_DATA, train=False, download=True,\n",
    "                                transform=torchvision.transforms.Compose([\n",
    "                                torchvision.transforms.Resize((img_size,img_size)),\n",
    "                                torchvision.transforms.ToTensor(),\n",
    "                                torchvision.transforms.Lambda((lambda x: torch.flatten(x))),\n",
    "                            ]))"
   ]
  },
  {
   "cell_type": "code",
   "execution_count": 5,
   "metadata": {},
   "outputs": [],
   "source": [
    "ds = torch.utils.data.Subset(ds_train, range(1024))\n",
    "dl = torch.utils.data.DataLoader(ds, batch_size=32, shuffle=True)"
   ]
  },
  {
   "cell_type": "markdown",
   "metadata": {},
   "source": [
    "# Network"
   ]
  },
  {
   "cell_type": "code",
   "execution_count": 6,
   "metadata": {},
   "outputs": [],
   "source": [
    "img_size = 28**2\n",
    "latent_dim = 10\n",
    "hidden_dim = 5\n",
    "device = DEVICE\n",
    "\n",
    "g_args = {\"img_size\": img_size, \n",
    "          \"latent_dim\": latent_dim,\n",
    "          \"hidden_dim\": hidden_dim,\n",
    "          \"device\": device}\n",
    "\n",
    "d_args = {\"img_size\": img_size, \n",
    "          \"latent_dim\": latent_dim,\n",
    "          \"device\": device}\n",
    "\n",
    "g = GoodfellowG(**g_args)\n",
    "d = GoodfellowD(**d_args)\n",
    "\n",
    "gf_args = {\"G\": g,\n",
    "           \"D\": d,\n",
    "           \"img_size\": img_size, \n",
    "           \"latent_dim\": latent_dim,\n",
    "           \"hidden_dim\": hidden_dim,\n",
    "           \"device\": device}\n",
    "\n",
    "gnet = GoodfellowGAN(**gf_args)"
   ]
  },
  {
   "cell_type": "code",
   "execution_count": 7,
   "metadata": {
    "code_folding": [
     1
    ]
   },
   "outputs": [],
   "source": [
    "def sample_latent_space(latent_dim: int = None, batch_size: int = 32\n",
    ") -> Tuple[torch.tensor, torch.tensor]:\n",
    "    \"\"\"Sample a normal distribution for latent space vectors\n",
    "\n",
    "    Note, that this assumes row-based data (as expected in Pytorch).\n",
    "\n",
    "    Args:\n",
    "        latent_size ): latent space vector, size: batch_size X latent_size\n",
    "\n",
    "    Returns:\n",
    "        z, u Tuple[torch.tensor]: batch_size X img_size tensor, and list of zeros as labels\n",
    "    \"\"\"\n",
    "\n",
    "    return torch.randn(batch_size, latent_dim), torch.zeros(batch_size, 1)"
   ]
  },
  {
   "cell_type": "markdown",
   "metadata": {},
   "source": [
    "# Tests"
   ]
  },
  {
   "cell_type": "code",
   "execution_count": 8,
   "metadata": {},
   "outputs": [
    {
     "name": "stdout",
     "output_type": "stream",
     "text": [
      "torch.Size([3, 5])\n",
      "torch.Size([32, 28])\n"
     ]
    }
   ],
   "source": [
    "def test_sample_latent_space(img_size:int=None, batch_size:int=None):\n",
    "    z, u = sample_latent_space(img_size, batch_size)\n",
    "    print(z.shape)\n",
    "    assert z.shape==torch.Size([batch_size, img_size])\n",
    "    assert all([val==0.0 for val in u])\n",
    "    \n",
    "test_sample_latent_space(batch_size=3, img_size=5)\n",
    "test_sample_latent_space(batch_size=32, img_size=28)"
   ]
  },
  {
   "cell_type": "code",
   "execution_count": 9,
   "metadata": {},
   "outputs": [],
   "source": [
    "def test_generator_forward(g: GoodfellowG):\n",
    "    \n",
    "    input_dim = g.latent_dim\n",
    "    output_dim = g.img_size\n",
    "    z, u = g.sample_latent_space(input_dim, batch_size=32)\n",
    "    \n",
    "    assert z.shape == (32, input_dim)\n",
    "    \n",
    "    z = g.forward(z)\n",
    "    \n",
    "    assert z.shape == (32, output_dim)\n",
    "    \n",
    "test_generator_forward(g)"
   ]
  },
  {
   "cell_type": "markdown",
   "metadata": {},
   "source": [
    "# Train Network (sample)"
   ]
  },
  {
   "cell_type": "code",
   "execution_count": 10,
   "metadata": {},
   "outputs": [],
   "source": [
    "optimizer=torch.optim.Adam(gnet.parameters(), lr=0.001)"
   ]
  },
  {
   "cell_type": "code",
   "execution_count": 11,
   "metadata": {},
   "outputs": [],
   "source": [
    "outpath = os.path.abspath(os.path.join(\"..\", \"data\", \"05_models\"))\n",
    "if not os.path.exists(outpath):\n",
    "    os.makedirs(outpath)\n",
    "    print(f\"made {outpath}\")"
   ]
  },
  {
   "cell_type": "code",
   "execution_count": 12,
   "metadata": {
    "scrolled": true
   },
   "outputs": [
    {
     "name": "stderr",
     "output_type": "stream",
     "text": [
      "100%|██████████| 10/10 [00:02<00:00,  4.31it/s]\n"
     ]
    }
   ],
   "source": [
    "gnet.train(dl, optimizer=optimizer, epochs=10, checkpoints=[0,5,9], path=outpath)"
   ]
  },
  {
   "cell_type": "markdown",
   "metadata": {},
   "source": [
    "# Output Images"
   ]
  },
  {
   "cell_type": "code",
   "execution_count": 24,
   "metadata": {},
   "outputs": [
    {
     "name": "stdout",
     "output_type": "stream",
     "text": [
      "fake latent size: torch.Size([9, 10])\n",
      "fake images size: torch.Size([9, 784])\n"
     ]
    }
   ],
   "source": [
    "z, u = g.sample_latent_space(latent_dim, batch_size=9)\n",
    "print(f\"fake latent size: {z.size()}\")\n",
    "fake_images = g.forward(z)\n",
    "print(f\"fake images size: {fake_images.size()}\")"
   ]
  },
  {
   "cell_type": "code",
   "execution_count": 25,
   "metadata": {},
   "outputs": [
    {
     "data": {
      "text/plain": [
       "torch.Size([784])"
      ]
     },
     "execution_count": 25,
     "metadata": {},
     "output_type": "execute_result"
    }
   ],
   "source": [
    "fake_images[1,:].size()"
   ]
  },
  {
   "cell_type": "code",
   "execution_count": 26,
   "metadata": {},
   "outputs": [],
   "source": [
    "# for i in range(9):  \n",
    "#     plt.subplot(330 + 1 + i)\n",
    "#     plt.imshow(fake_images[i:,])\n",
    "#     plt.show()"
   ]
  },
  {
   "cell_type": "code",
   "execution_count": 27,
   "metadata": {},
   "outputs": [
    {
     "data": {
      "image/png": "[encoded data removed]",
      "text/plain": [
       "<Figure size 432x432 with 9 Axes>"
      ]
     },
     "metadata": {
      "needs_background": "light"
     },
     "output_type": "display_data"
    }
   ],
   "source": [
    "import matplotlib.pyplot as plt\n",
    "from matplotlib import pyplot\n",
    "\n",
    "fig, ax = plt.subplots(figsize=(6,6), nrows=3, ncols=3)\n",
    "\n",
    "for i in range(3):\n",
    "    for j in range(3):\n",
    "        img = fake_images[i+j,:]\n",
    "        img = img.detach().cpu().numpy().reshape(28,28)\n",
    "        ax[i,j].axis('off')\n",
    "        ax[i,j].imshow(img, cmap=pyplot.get_cmap('gray'))\n",
    "        \n",
    "\n",
    "plt.show();\n",
    "        "
   ]
  },
  {
   "cell_type": "markdown",
   "metadata": {},
   "source": [
    "Not great, but only 10 epochs. and only 1024 images. "
   ]
  },
  {
   "cell_type": "markdown",
   "metadata": {},
   "source": [
    "# Train Network (full dataset)"
   ]
  },
  {
   "cell_type": "code",
   "execution_count": 22,
   "metadata": {},
   "outputs": [],
   "source": [
    "# grab full train dataset\n",
    "dl = torch.utils.data.DataLoader(ds_train, batch_size=32, shuffle=True)\n",
    "\n",
    "# recreate \n",
    "gnet = GoodfellowGAN(**gf_args)\n",
    "\n",
    "# name full model checkpoints\n",
    "outpath = os.path.abspath(os.path.join(\"..\", \"data\", \"05_models\", \"goodfellow-mnist-full.pt\"))\n",
    "\n",
    "# checkpoints\n",
    "checkpoints = range(0, 110, 20)\n"
   ]
  },
  {
   "cell_type": "code",
   "execution_count": 23,
   "metadata": {},
   "outputs": [
    {
     "name": "stderr",
     "output_type": "stream",
     "text": [
      "100%|██████████| 100/100 [21:55<00:00, 13.15s/it]\n"
     ]
    }
   ],
   "source": [
    "gnet.train(dl, optimizer=optimizer, epochs=100, checkpoints=checkpoints, path=outpath)\n"
   ]
  },
  {
   "cell_type": "markdown",
   "metadata": {},
   "source": [
    "# Output Images (full dataset)"
   ]
  },
  {
   "cell_type": "code",
   "execution_count": 28,
   "metadata": {},
   "outputs": [
    {
     "data": {
      "text/plain": [
       "tensor([[0., 0., 0.,  ..., 0., 0., 0.],\n",
       "        [0., 0., 0.,  ..., 0., 0., 0.],\n",
       "        [0., 0., 0.,  ..., 0., 0., 0.],\n",
       "        ...,\n",
       "        [0., 0., 0.,  ..., 0., 0., 0.],\n",
       "        [0., 0., 0.,  ..., 0., 0., 0.],\n",
       "        [0., 0., 0.,  ..., 0., 0., 0.]])"
      ]
     },
     "execution_count": 28,
     "metadata": {},
     "output_type": "execute_result"
    }
   ],
   "source": [
    "real_sample, real_labels = next(iter(dl))\n",
    "real_sample "
   ]
  },
  {
   "cell_type": "code",
   "execution_count": 29,
   "metadata": {},
   "outputs": [
    {
     "data": {
      "text/plain": [
       "torch.Size([32, 784])"
      ]
     },
     "execution_count": 29,
     "metadata": {},
     "output_type": "execute_result"
    }
   ],
   "source": [
    "real_sample.size()"
   ]
  },
  {
   "cell_type": "code",
   "execution_count": 30,
   "metadata": {},
   "outputs": [
    {
     "name": "stdout",
     "output_type": "stream",
     "text": [
      "tensor(1., grad_fn=<MeanBackward0>)\n",
      "tensor(1., grad_fn=<MeanBackward0>)\n"
     ]
    }
   ],
   "source": [
    "# check that discriminator even tells real from fake at all\n",
    "real_sample, _ = next(iter(dl)) \n",
    "fake_sample, _ = g.sample_latent_space(latent_dim, batch_size=32)\n",
    "fake_sample = g.forward(fake_sample)\n",
    "\n",
    "real_logits = d.forward(real_sample)\n",
    "fake_logits = d.forward(fake_sample)\n",
    "\n",
    "print(real_logits.mean())\n",
    "print(fake_logits.mean())\n"
   ]
  },
  {
   "cell_type": "code",
   "execution_count": 31,
   "metadata": {},
   "outputs": [
    {
     "name": "stdout",
     "output_type": "stream",
     "text": [
      "fake latent size: torch.Size([9, 10])\n",
      "fake images size: torch.Size([9, 784])\n"
     ]
    }
   ],
   "source": [
    "z, u = g.sample_latent_space(latent_dim, batch_size=9)\n",
    "print(f\"fake latent size: {z.size()}\")\n",
    "fake_images = g.forward(z)\n",
    "print(f\"fake images size: {fake_images.size()}\")"
   ]
  },
  {
   "cell_type": "code",
   "execution_count": 33,
   "metadata": {},
   "outputs": [
    {
     "data": {
      "image/png": "[encoded data removed]",
      "text/plain": [
       "<Figure size 432x432 with 9 Axes>"
      ]
     },
     "metadata": {
      "needs_background": "light"
     },
     "output_type": "display_data"
    }
   ],
   "source": [
    "fig, ax = plt.subplots(figsize=(6,6), nrows=3, ncols=3)\n",
    "\n",
    "for i in range(3):\n",
    "    for j in range(3):\n",
    "        img = fake_images[i+j,:]\n",
    "        img = img.detach().cpu().numpy().reshape(28,28)\n",
    "        ax[i,j].axis('off')\n",
    "        ax[i,j].imshow(img, cmap=pyplot.get_cmap('gray'))\n",
    "        \n",
    "\n",
    "plt.show();"
   ]
  },
  {
   "cell_type": "code",
   "execution_count": null,
   "metadata": {},
   "outputs": [],
   "source": []
  }
 ],
 "metadata": {
  "kernelspec": {
   "display_name": "adv",
   "language": "python",
   "name": "adv"
  },
  "language_info": {
   "codemirror_mode": {
    "name": "ipython",
    "version": 3
   },
   "file_extension": ".py",
   "mimetype": "text/x-python",
   "name": "python",
   "nbconvert_exporter": "python",
   "pygments_lexer": "ipython3",
   "version": "3.9.2"
  }
 },
 "nbformat": 4,
 "nbformat_minor": 4
}
