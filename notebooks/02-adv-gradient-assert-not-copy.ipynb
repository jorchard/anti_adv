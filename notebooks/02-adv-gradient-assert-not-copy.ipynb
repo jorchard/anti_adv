{
 "cells": [
  {
   "cell_type": "markdown",
   "metadata": {},
   "source": [
    "# Generativity and Adversarial Gradients\n",
    "\n",
    "**Purpose:** Quick check to assert that the adversiarial gradients point to the same object (and not just a copy of weights). \n",
    "\n",
    "note: git commit `f241a9c` , if there is an error and it is fixed, this notebook will not run appropriately\n",
    "\n",
    "**Result:** Matrices do not refer to the same object. I believe the transpose operation is copying a new object. "
   ]
  },
  {
   "cell_type": "markdown",
   "metadata": {},
   "source": [
    "# Imports"
   ]
  },
  {
   "cell_type": "code",
   "execution_count": 4,
   "metadata": {
    "scrolled": true
   },
   "outputs": [
    {
     "name": "stdout",
     "output_type": "stream",
     "text": [
      "The autoreload extension is already loaded. To reload it, use:\n",
      "  %reload_ext autoreload\n"
     ]
    }
   ],
   "source": [
    "from typing import List\n",
    "\n",
    "import copy\n",
    "import os\n",
    "import pathlib\n",
    "\n",
    "import numpy as np\n",
    "import pandas as pd\n",
    "import torch\n",
    "import torch.nn as nn\n",
    "import torchvision\n",
    "import torchvision.transforms as T\n",
    "\n",
    "import matplotlib.pyplot as plt\n",
    "from tqdm import tqdm\n",
    "\n",
    "%load_ext autoreload\n",
    "%autoreload 2"
   ]
  },
  {
   "cell_type": "code",
   "execution_count": 9,
   "metadata": {},
   "outputs": [],
   "source": [
    "# Globals\n",
    "DATADIR = os.path.join(\"..\", \"data\", \"MNIST\")    # assume running from /notebooks"
   ]
  },
  {
   "cell_type": "code",
   "execution_count": 10,
   "metadata": {},
   "outputs": [
    {
     "name": "stdout",
     "output_type": "stream",
     "text": [
      "using device = 'cpu'\n"
     ]
    }
   ],
   "source": [
    "# In case you are fortunate enough to have access to a GPU...\n",
    "device = 'cuda' if torch.cuda.is_available() else 'cpu'\n",
    "print(f\"using {device = }\")"
   ]
  },
  {
   "cell_type": "markdown",
   "metadata": {},
   "source": [
    "# Plotting"
   ]
  },
  {
   "cell_type": "code",
   "execution_count": 11,
   "metadata": {},
   "outputs": [],
   "source": [
    "def draw(X, img_size: (28,28)):\n",
    "    def draw_single(x): \n",
    "        with torch.no_grad():\n",
    "            plt.imshow(x.detach().cpu().numpy().reshape(img_size), cmap='gray');\n",
    "            plt.axis('off');\n",
    "\n",
    "    if len(X.shape)==4 or len(X.shape)==2:  # display a batch\n",
    "        N = X.shape[0]\n",
    "        plt.figure(figsize=(15,3))\n",
    "        for k,xx in enumerate(X):\n",
    "            plt.subplot(1,10,k+1)\n",
    "            draw_single(xx)\n",
    "    else:\n",
    "        draw_single(X)"
   ]
  },
  {
   "cell_type": "markdown",
   "metadata": {},
   "source": [
    "# Data: MNIST"
   ]
  },
  {
   "cell_type": "code",
   "execution_count": 12,
   "metadata": {
    "scrolled": true
   },
   "outputs": [],
   "source": [
    "# You can change img_size to 14 if you want to use smaller (14x14) images.\n",
    "\n",
    "\n",
    "img_size = 28\n",
    "ds_full = torchvision.datasets.MNIST(DATADIR, train=True, download=True,\n",
    "                                transform=T.Compose([\n",
    "                                T.Resize((img_size,img_size)),\n",
    "                                T.ToTensor(),\n",
    "                                T.Lambda((lambda x: torch.flatten(x))),\n",
    "                            ]))"
   ]
  },
  {
   "cell_type": "code",
   "execution_count": 13,
   "metadata": {},
   "outputs": [],
   "source": [
    "# You can change img_size to 14 if you want to use smaller (14x14) images.\n",
    "img_size = 28\n",
    "ds_test = torchvision.datasets.MNIST(DATADIR, train=False, download=True,\n",
    "                                transform=T.Compose([\n",
    "                                T.Resize((img_size,img_size)),\n",
    "                                T.ToTensor(),\n",
    "                                T.Lambda((lambda x: torch.flatten(x))),\n",
    "                            ]))"
   ]
  },
  {
   "cell_type": "code",
   "execution_count": 14,
   "metadata": {},
   "outputs": [],
   "source": [
    "#ds = ds_full\n",
    "n = 1024*2\n",
    "n_samples = n if n <= len(ds_full) else len(ds_full)\n",
    "\n",
    "ds = torch.utils.data.Subset(ds_full, range(n_samples))\n",
    "dl = torch.utils.data.DataLoader(ds, batch_size=32, shuffle=True)\n",
    "dl_test = torch.utils.data.DataLoader(ds_test, batch_size=256)"
   ]
  },
  {
   "cell_type": "markdown",
   "metadata": {},
   "source": [
    "# Network"
   ]
  },
  {
   "cell_type": "code",
   "execution_count": 15,
   "metadata": {},
   "outputs": [],
   "source": [
    "class MyNet(nn.Module):\n",
    "    '''\n",
    "     net = MyNet(img_size=28)\n",
    "     \n",
    "     Creates a neural network to do classification on MNIST.\n",
    "     It assumes the images will be (img_size)x(img_size).\n",
    "     \n",
    "     It projects to a latent space.\n",
    "     From that latent space, it:\n",
    "      1) projects to an output classification layer (log softmax), and\n",
    "      2) projects back down through the network to a reconstruction of the input.\n",
    "     \n",
    "    '''\n",
    "    def __init__(self, img_size=28, latent_dim=5):\n",
    "        super().__init__()\n",
    "        \n",
    "        # Discriminative network\n",
    "        self.D = nn.ModuleList()\n",
    "        \n",
    "        # Input -> Hidden 1\n",
    "        self.D.append(nn.Linear(img_size**2, 100))\n",
    "        self.D.append(nn.ReLU())\n",
    "        \n",
    "        # Hidden 1 -> Hidden 2\n",
    "        self.D.append(nn.Linear(100, latent_dim))\n",
    "        self.D.append(nn.ReLU())\n",
    "        \n",
    "        # Classifier\n",
    "        self.classifier = nn.Sequential(\n",
    "                            nn.Linear(latent_dim, 10),\n",
    "                            nn.LogSoftmax(dim=-1),\n",
    "                            )\n",
    "\n",
    "        # The generative network\n",
    "        self.G = nn.ModuleList()\n",
    "        \n",
    "        # Hidden 2 -> Hidden 1\n",
    "        self.G.append(nn.Linear(latent_dim, 100))\n",
    "        self.G.append(nn.ReLU())\n",
    "        \n",
    "        # Hidden 1 -> Input\n",
    "        self.G.append(nn.Linear(100, img_size**2))\n",
    "        self.G.append(nn.Sigmoid())\n",
    "        \n",
    "        # Tie the weights of D and G\n",
    "        #TODO check if pointer or copy\n",
    "        # check pytorch source to see transpose\n",
    "        # https://pytorch.org/docs/stable/generated/torch.transpose.html#torch.transpose\n",
    "        # ^ shares underlying data, so will not return new object\n",
    "        self.G[-2].weight.data = self.D[0].weight.data.transpose(1,0)\n",
    "        self.G[-4].weight.data = self.D[2].weight.data.transpose(1,0)\n",
    "        self.G[-4].bias.data = self.D[0].bias.data\n",
    "        \n",
    "        self.classifier_loss = nn.NLLLoss()\n",
    "        self.recon_loss = nn.BCELoss()\n",
    "        self.losses = []\n",
    "        self.to(device)\n",
    "        \n",
    "        # checkpoint states\n",
    "        self.optimizer = None\n",
    "        \n",
    "        \n",
    "    def forward(self, x):\n",
    "        '''Latent -> Classification'''\n",
    "        return self.classifier(self.discriminate(x))\n",
    "\n",
    "    \n",
    "    def ae(self,x):\n",
    "        return self.generate(self.discriminate(x))\n",
    "\n",
    "    \n",
    "    def discriminate(self, x):\n",
    "        '''Input -> Latent'''\n",
    "        for d in self.D:\n",
    "            x = d(x)\n",
    "        return x\n",
    "\n",
    "\n",
    "    def generate(self, z):\n",
    "        '''\n",
    "         Latent -> Input\n",
    "         x_had = net.generate(z)\n",
    "         \n",
    "         Runs the network in reverse, generating a batch of inputs from\n",
    "         a batch of latent vectors.\n",
    "         \n",
    "         Inputs:\n",
    "          z      (D,latent_dim) tensor of latent vectors\n",
    "          \n",
    "         Outputs:\n",
    "          x_hat  (D,784) tensor containing the batch of inputs\n",
    "        '''\n",
    "        for g in self.G:\n",
    "            z = g(z)\n",
    "        return z\n",
    "    \n",
    "      \n",
    "    def learn(self, \n",
    "              dl, \n",
    "              optimizer=None, \n",
    "              epochs=10, \n",
    "              beta=0.,\n",
    "              checkpoints=[],\n",
    "              path: str=None,\n",
    "              plot_loss=True):\n",
    "        '''\n",
    "         net.learn(dl, optimizer=None, epochs=10, beta=0.)\n",
    "         \n",
    "         Train the network on the dataset represented by the DataLoader dl.\n",
    "         The default optimizer is Adam().\n",
    "         \n",
    "         The targets for the dataset are assumed to be class indices.\n",
    "         \n",
    "         beta is the weight for the reconstruction loss.\n",
    "         \n",
    "         Args:\n",
    "             dl (Dataloader): \n",
    "             checkpoints (Boolean|List[int]): if True, save every 10-epochs. if List[int], save each listed epoch.\n",
    "             path (str): optional path to save model checkpoints.\n",
    "        '''\n",
    "        if optimizer is None:\n",
    "            print('Need to specify an optimizer')\n",
    "            return\n",
    "        else:\n",
    "            self.optimizer = optimizer\n",
    "        \n",
    "        for epoch in tqdm(range(epochs)):\n",
    "            total_loss = 0.\n",
    "            count = 0.\n",
    "            for x, t in dl:\n",
    "                x = x.to(device)   # for use with a GPU\n",
    "                t = t.to(device)\n",
    "                z = self.discriminate(x)\n",
    "                y = self.classifier(z)\n",
    "                xhat = self.generate(z)\n",
    "                loss = self.classifier_loss(y, t) + beta*self.recon_loss(xhat, x)\n",
    "                optimizer.zero_grad()\n",
    "                loss.backward()\n",
    "                optimizer.step()\n",
    "                # set generator weights to equal discirminator weights\n",
    "                # hack fix\n",
    "                #self.G[0].weight.data = self.D[2].weight.data.transpose(1,0)\n",
    "                #self.G[-2].weight.data = self.D[0].weight.data.transpose(1,0)\n",
    "                self.G[-2].weight = torch.nn.Parameter(self.D[0].weight.transpose(1,0))\n",
    "                self.G[-4].weight = torch.nn.Parameter(self.D[2].weight.transpose(1,0))\n",
    "                # delete above hack\n",
    "                total_loss += loss.item()*len(t)\n",
    "                count += 1.\n",
    "            self.losses.append(total_loss/len(dl.dataset))\n",
    "            #print(f'Epoch: {epoch}, loss: {total_loss/count}')\n",
    "            if checkpoints:\n",
    "                self.checkpoint(epoch, checkpoints, path)\n",
    "        \n",
    "        if plot_loss:        \n",
    "            plt.figure(figsize=(4,4))\n",
    "            plt.plot(self.losses); plt.yscale('log');\n",
    "\n",
    "\n",
    "    def checkpoint(self, \n",
    "                   epoch: int, \n",
    "                   checkpoints: List[int]=[],\n",
    "                   path: str=\"model-checkpoints.pt\"):\n",
    "        \"\"\" Save model checkpoints. \n",
    "        \n",
    "            Args:\n",
    "                epoch (int): Current training epoch.\n",
    "                checkpoints (List[int]): list of epochs to save model at. if True, save every 10.model \n",
    "                path (str): path to save model.pt\n",
    "                \n",
    "        \"\"\"\n",
    "        \n",
    "        def save_checkpoint(self, epoch, path):\n",
    "            path = path.split(\".pt\")[0] + f\"-{epoch}\" + \".pt\"\n",
    "            torch.save({'epoch': epoch,\n",
    "                        'model_state_dict': self.state_dict(),\n",
    "                        'optimizer_state_dict': self.optimizer.state_dict(),\n",
    "                        'loss': self.losses[-1],\n",
    "                        }, \n",
    "                        path) \n",
    "        \n",
    "        if checkpoints is True:\n",
    "            if epoch % 10 == 0: \n",
    "                save_checkpoint(self, epoch, path)\n",
    "        elif epoch in checkpoints:\n",
    "            save_checkpoint(self, epoch, path)     "
   ]
  },
  {
   "cell_type": "markdown",
   "metadata": {},
   "source": [
    "# Assert Objects"
   ]
  },
  {
   "cell_type": "code",
   "execution_count": 16,
   "metadata": {},
   "outputs": [],
   "source": [
    "net = MyNet(28, latent_dim=8)#.to(device)"
   ]
  },
  {
   "cell_type": "markdown",
   "metadata": {},
   "source": [
    "Below: The tensors start out with identical weight values"
   ]
  },
  {
   "cell_type": "code",
   "execution_count": 17,
   "metadata": {},
   "outputs": [],
   "source": [
    "#         self.G[-2].weight.data = self.D[0].weight.data.transpose(1,0)\n",
    "#         self.G[-4].weight.data = self.D[2].weight.data.transpose(1,0)"
   ]
  },
  {
   "cell_type": "code",
   "execution_count": 18,
   "metadata": {},
   "outputs": [],
   "source": [
    "assert torch.equal(net.G[-2].weight.data.T, net.D[0].weight.data)\n",
    "assert torch.equal(net.G[-4].weight.data.T, net.D[2].weight.data)"
   ]
  },
  {
   "cell_type": "code",
   "execution_count": 19,
   "metadata": {},
   "outputs": [
    {
     "ename": "AssertionError",
     "evalue": "",
     "output_type": "error",
     "traceback": [
      "\u001b[0;31m---------------------------------------------------------------------------\u001b[0m",
      "\u001b[0;31mAssertionError\u001b[0m                            Traceback (most recent call last)",
      "\u001b[0;32m<ipython-input-19-ecdee764de52>\u001b[0m in \u001b[0;36m<module>\u001b[0;34m\u001b[0m\n\u001b[1;32m      1\u001b[0m \u001b[0;32massert\u001b[0m \u001b[0mtorch\u001b[0m\u001b[0;34m.\u001b[0m\u001b[0mequal\u001b[0m\u001b[0;34m(\u001b[0m\u001b[0mnet\u001b[0m\u001b[0;34m.\u001b[0m\u001b[0mG\u001b[0m\u001b[0;34m[\u001b[0m\u001b[0;36m0\u001b[0m\u001b[0;34m]\u001b[0m\u001b[0;34m.\u001b[0m\u001b[0mweight\u001b[0m\u001b[0;34m.\u001b[0m\u001b[0mdata\u001b[0m\u001b[0;34m.\u001b[0m\u001b[0mT\u001b[0m\u001b[0;34m,\u001b[0m \u001b[0mnet\u001b[0m\u001b[0;34m.\u001b[0m\u001b[0mD\u001b[0m\u001b[0;34m[\u001b[0m\u001b[0;36m2\u001b[0m\u001b[0;34m]\u001b[0m\u001b[0;34m.\u001b[0m\u001b[0mweight\u001b[0m\u001b[0;34m.\u001b[0m\u001b[0mdata\u001b[0m\u001b[0;34m)\u001b[0m\u001b[0;34m\u001b[0m\u001b[0;34m\u001b[0m\u001b[0m\n\u001b[0;32m----> 2\u001b[0;31m \u001b[0;32massert\u001b[0m \u001b[0mtorch\u001b[0m\u001b[0;34m.\u001b[0m\u001b[0mequal\u001b[0m\u001b[0;34m(\u001b[0m\u001b[0mnet\u001b[0m\u001b[0;34m.\u001b[0m\u001b[0mG\u001b[0m\u001b[0;34m[\u001b[0m\u001b[0;34m-\u001b[0m\u001b[0;36m2\u001b[0m\u001b[0;34m]\u001b[0m\u001b[0;34m.\u001b[0m\u001b[0mweight\u001b[0m\u001b[0;34m.\u001b[0m\u001b[0mdata\u001b[0m\u001b[0;34m.\u001b[0m\u001b[0mT\u001b[0m\u001b[0;34m,\u001b[0m \u001b[0mnet\u001b[0m\u001b[0;34m.\u001b[0m\u001b[0mD\u001b[0m\u001b[0;34m[\u001b[0m\u001b[0;36m2\u001b[0m\u001b[0;34m]\u001b[0m\u001b[0;34m.\u001b[0m\u001b[0mweight\u001b[0m\u001b[0;34m.\u001b[0m\u001b[0mdata\u001b[0m\u001b[0;34m)\u001b[0m\u001b[0;34m\u001b[0m\u001b[0;34m\u001b[0m\u001b[0m\n\u001b[0m",
      "\u001b[0;31mAssertionError\u001b[0m: "
     ]
    }
   ],
   "source": [
    "assert torch.equal(net.G[0].weight.data.T, net.D[2].weight.data)\n",
    "assert torch.equal(net.G[-2].weight.data.T, net.D[2].weight.data)"
   ]
  },
  {
   "cell_type": "markdown",
   "metadata": {},
   "source": [
    "Below: but the pointers do not reference the same object"
   ]
  },
  {
   "cell_type": "code",
   "execution_count": 20,
   "metadata": {
    "scrolled": true
   },
   "outputs": [
    {
     "ename": "AssertionError",
     "evalue": "",
     "output_type": "error",
     "traceback": [
      "\u001b[0;31m---------------------------------------------------------------------------\u001b[0m",
      "\u001b[0;31mAssertionError\u001b[0m                            Traceback (most recent call last)",
      "\u001b[0;32m<ipython-input-20-c2b90cc2091d>\u001b[0m in \u001b[0;36m<module>\u001b[0;34m\u001b[0m\n\u001b[0;32m----> 1\u001b[0;31m \u001b[0;32massert\u001b[0m \u001b[0mnet\u001b[0m\u001b[0;34m.\u001b[0m\u001b[0mG\u001b[0m\u001b[0;34m[\u001b[0m\u001b[0;34m-\u001b[0m\u001b[0;36m2\u001b[0m\u001b[0;34m]\u001b[0m\u001b[0;34m.\u001b[0m\u001b[0mweight\u001b[0m\u001b[0;34m.\u001b[0m\u001b[0mdata\u001b[0m \u001b[0;32mis\u001b[0m \u001b[0mnet\u001b[0m\u001b[0;34m.\u001b[0m\u001b[0mD\u001b[0m\u001b[0;34m[\u001b[0m\u001b[0;36m0\u001b[0m\u001b[0;34m]\u001b[0m\u001b[0;34m.\u001b[0m\u001b[0mweight\u001b[0m\u001b[0;34m.\u001b[0m\u001b[0mdata\u001b[0m\u001b[0;34m.\u001b[0m\u001b[0mtranspose\u001b[0m\u001b[0;34m(\u001b[0m\u001b[0;36m1\u001b[0m\u001b[0;34m,\u001b[0m\u001b[0;36m0\u001b[0m\u001b[0;34m)\u001b[0m\u001b[0;34m\u001b[0m\u001b[0;34m\u001b[0m\u001b[0m\n\u001b[0m\u001b[1;32m      2\u001b[0m \u001b[0;32massert\u001b[0m \u001b[0mnet\u001b[0m\u001b[0;34m.\u001b[0m\u001b[0mG\u001b[0m\u001b[0;34m[\u001b[0m\u001b[0;34m-\u001b[0m\u001b[0;36m4\u001b[0m\u001b[0;34m]\u001b[0m\u001b[0;34m.\u001b[0m\u001b[0mweight\u001b[0m\u001b[0;34m.\u001b[0m\u001b[0mdata\u001b[0m \u001b[0;32mis\u001b[0m \u001b[0mnet\u001b[0m\u001b[0;34m.\u001b[0m\u001b[0mD\u001b[0m\u001b[0;34m[\u001b[0m\u001b[0;36m2\u001b[0m\u001b[0;34m]\u001b[0m\u001b[0;34m.\u001b[0m\u001b[0mweight\u001b[0m\u001b[0;34m.\u001b[0m\u001b[0mdata\u001b[0m\u001b[0;34m.\u001b[0m\u001b[0mtranspose\u001b[0m\u001b[0;34m(\u001b[0m\u001b[0;36m1\u001b[0m\u001b[0;34m,\u001b[0m\u001b[0;36m0\u001b[0m\u001b[0;34m)\u001b[0m\u001b[0;34m\u001b[0m\u001b[0;34m\u001b[0m\u001b[0m\n\u001b[1;32m      3\u001b[0m \u001b[0;32massert\u001b[0m \u001b[0mnet\u001b[0m\u001b[0;34m.\u001b[0m\u001b[0mG\u001b[0m\u001b[0;34m[\u001b[0m\u001b[0;34m-\u001b[0m\u001b[0;36m4\u001b[0m\u001b[0;34m]\u001b[0m\u001b[0;34m.\u001b[0m\u001b[0mbias\u001b[0m\u001b[0;34m.\u001b[0m\u001b[0mdata\u001b[0m \u001b[0;32mis\u001b[0m \u001b[0mnet\u001b[0m\u001b[0;34m.\u001b[0m\u001b[0mD\u001b[0m\u001b[0;34m[\u001b[0m\u001b[0;36m0\u001b[0m\u001b[0;34m]\u001b[0m\u001b[0;34m.\u001b[0m\u001b[0mbias\u001b[0m\u001b[0;34m.\u001b[0m\u001b[0mdata\u001b[0m\u001b[0;34m.\u001b[0m\u001b[0mtranspose\u001b[0m\u001b[0;34m(\u001b[0m\u001b[0;36m1\u001b[0m\u001b[0;34m,\u001b[0m\u001b[0;36m0\u001b[0m\u001b[0;34m)\u001b[0m\u001b[0;34m\u001b[0m\u001b[0;34m\u001b[0m\u001b[0m\n",
      "\u001b[0;31mAssertionError\u001b[0m: "
     ]
    }
   ],
   "source": [
    "assert net.G[-2].weight.data is net.D[0].weight.data.transpose(1,0)\n",
    "assert net.G[-4].weight.data is net.D[2].weight.data.transpose(1,0)\n",
    "assert net.G[-4].bias.data is net.D[0].bias.data.transpose(1,0)"
   ]
  },
  {
   "cell_type": "code",
   "execution_count": 21,
   "metadata": {},
   "outputs": [
    {
     "ename": "AssertionError",
     "evalue": "",
     "output_type": "error",
     "traceback": [
      "\u001b[0;31m---------------------------------------------------------------------------\u001b[0m",
      "\u001b[0;31mAssertionError\u001b[0m                            Traceback (most recent call last)",
      "\u001b[0;32m<ipython-input-21-9b97fd35e612>\u001b[0m in \u001b[0;36m<module>\u001b[0;34m\u001b[0m\n\u001b[0;32m----> 1\u001b[0;31m \u001b[0;32massert\u001b[0m \u001b[0mnet\u001b[0m\u001b[0;34m.\u001b[0m\u001b[0mG\u001b[0m\u001b[0;34m[\u001b[0m\u001b[0;34m-\u001b[0m\u001b[0;36m2\u001b[0m\u001b[0;34m]\u001b[0m \u001b[0;32mis\u001b[0m \u001b[0mnet\u001b[0m\u001b[0;34m.\u001b[0m\u001b[0mD\u001b[0m\u001b[0;34m[\u001b[0m\u001b[0;36m0\u001b[0m\u001b[0;34m]\u001b[0m\u001b[0;34m\u001b[0m\u001b[0;34m\u001b[0m\u001b[0m\n\u001b[0m\u001b[1;32m      2\u001b[0m \u001b[0;32massert\u001b[0m \u001b[0mnet\u001b[0m\u001b[0;34m.\u001b[0m\u001b[0mG\u001b[0m\u001b[0;34m[\u001b[0m\u001b[0;34m-\u001b[0m\u001b[0;36m4\u001b[0m\u001b[0;34m]\u001b[0m \u001b[0;32mis\u001b[0m \u001b[0mnet\u001b[0m\u001b[0;34m.\u001b[0m\u001b[0mD\u001b[0m\u001b[0;34m[\u001b[0m\u001b[0;36m2\u001b[0m\u001b[0;34m]\u001b[0m\u001b[0;34m\u001b[0m\u001b[0;34m\u001b[0m\u001b[0m\n\u001b[1;32m      3\u001b[0m \u001b[0;32massert\u001b[0m \u001b[0mnet\u001b[0m\u001b[0;34m.\u001b[0m\u001b[0mG\u001b[0m\u001b[0;34m[\u001b[0m\u001b[0;34m-\u001b[0m\u001b[0;36m4\u001b[0m\u001b[0;34m]\u001b[0m \u001b[0;32mis\u001b[0m \u001b[0mnet\u001b[0m\u001b[0;34m.\u001b[0m\u001b[0mD\u001b[0m\u001b[0;34m[\u001b[0m\u001b[0;36m0\u001b[0m\u001b[0;34m]\u001b[0m\u001b[0;34m\u001b[0m\u001b[0;34m\u001b[0m\u001b[0m\n",
      "\u001b[0;31mAssertionError\u001b[0m: "
     ]
    }
   ],
   "source": [
    "assert net.G[-2] is net.D[0]\n",
    "assert net.G[-4] is net.D[2]\n",
    "assert net.G[-4] is net.D[0]"
   ]
  },
  {
   "cell_type": "code",
   "execution_count": 22,
   "metadata": {},
   "outputs": [
    {
     "ename": "AssertionError",
     "evalue": "",
     "output_type": "error",
     "traceback": [
      "\u001b[0;31m---------------------------------------------------------------------------\u001b[0m",
      "\u001b[0;31mAssertionError\u001b[0m                            Traceback (most recent call last)",
      "\u001b[0;32m<ipython-input-22-39b9d558776f>\u001b[0m in \u001b[0;36m<module>\u001b[0;34m\u001b[0m\n\u001b[0;32m----> 1\u001b[0;31m \u001b[0;32massert\u001b[0m \u001b[0mnet\u001b[0m\u001b[0;34m.\u001b[0m\u001b[0mG\u001b[0m\u001b[0;34m[\u001b[0m\u001b[0;34m-\u001b[0m\u001b[0;36m2\u001b[0m\u001b[0;34m]\u001b[0m\u001b[0;34m.\u001b[0m\u001b[0mweight\u001b[0m\u001b[0;34m.\u001b[0m\u001b[0mdata\u001b[0m \u001b[0;32mis\u001b[0m \u001b[0mnet\u001b[0m\u001b[0;34m.\u001b[0m\u001b[0mD\u001b[0m\u001b[0;34m[\u001b[0m\u001b[0;36m0\u001b[0m\u001b[0;34m]\u001b[0m\u001b[0;34m.\u001b[0m\u001b[0mweight\u001b[0m\u001b[0;34m.\u001b[0m\u001b[0mdata\u001b[0m\u001b[0;34m.\u001b[0m\u001b[0mtranspose\u001b[0m\u001b[0;34m(\u001b[0m\u001b[0;36m1\u001b[0m\u001b[0;34m,\u001b[0m\u001b[0;36m0\u001b[0m\u001b[0;34m)\u001b[0m\u001b[0;34m\u001b[0m\u001b[0;34m\u001b[0m\u001b[0m\n\u001b[0m\u001b[1;32m      2\u001b[0m \u001b[0;32massert\u001b[0m \u001b[0mnet\u001b[0m\u001b[0;34m.\u001b[0m\u001b[0mG\u001b[0m\u001b[0;34m[\u001b[0m\u001b[0;34m-\u001b[0m\u001b[0;36m4\u001b[0m\u001b[0;34m]\u001b[0m\u001b[0;34m.\u001b[0m\u001b[0mweight\u001b[0m \u001b[0;32mis\u001b[0m \u001b[0mnet\u001b[0m\u001b[0;34m.\u001b[0m\u001b[0mD\u001b[0m\u001b[0;34m[\u001b[0m\u001b[0;36m2\u001b[0m\u001b[0;34m]\u001b[0m\u001b[0;34m.\u001b[0m\u001b[0mweight\u001b[0m\u001b[0;34m\u001b[0m\u001b[0;34m\u001b[0m\u001b[0m\n\u001b[1;32m      3\u001b[0m \u001b[0;32massert\u001b[0m \u001b[0mnet\u001b[0m\u001b[0;34m.\u001b[0m\u001b[0mG\u001b[0m\u001b[0;34m[\u001b[0m\u001b[0;34m-\u001b[0m\u001b[0;36m4\u001b[0m\u001b[0;34m]\u001b[0m\u001b[0;34m.\u001b[0m\u001b[0mbias\u001b[0m \u001b[0;32mis\u001b[0m \u001b[0mnet\u001b[0m\u001b[0;34m.\u001b[0m\u001b[0mD\u001b[0m\u001b[0;34m[\u001b[0m\u001b[0;36m0\u001b[0m\u001b[0;34m]\u001b[0m\u001b[0;34m.\u001b[0m\u001b[0mbias\u001b[0m\u001b[0;34m\u001b[0m\u001b[0;34m\u001b[0m\u001b[0m\n",
      "\u001b[0;31mAssertionError\u001b[0m: "
     ]
    }
   ],
   "source": [
    "assert net.G[-2].weight.data is net.D[0].weight.data.transpose(1,0)\n",
    "assert net.G[-4].weight is net.D[2].weight\n",
    "assert net.G[-4].bias is net.D[0].bias"
   ]
  },
  {
   "cell_type": "markdown",
   "metadata": {},
   "source": [
    "Looks like these asserts will fail, not because the pointers aren't to the same object, but because the transpose operation breaks the `is` comparison. \n",
    "\n",
    "So, have to just test if updates to one affect the other"
   ]
  },
  {
   "cell_type": "code",
   "execution_count": 23,
   "metadata": {},
   "outputs": [],
   "source": [
    "#TODO check if pointer or copy\n",
    "#self.G[-2].weight.data = self.D[0].weight.data.transpose(1,0)"
   ]
  },
  {
   "cell_type": "markdown",
   "metadata": {},
   "source": [
    "Consider the zero-th row of `net.G[-2]` and the zero-th column of `net.D[0]` should be equivalent"
   ]
  },
  {
   "cell_type": "markdown",
   "metadata": {},
   "source": [
    "Below: on update of generator, discriminator weights shouldn't change"
   ]
  },
  {
   "cell_type": "code",
   "execution_count": 24,
   "metadata": {},
   "outputs": [],
   "source": [
    "net.G[-2].weight.data[0:1,] = 1\n",
    "\n",
    "assert not net.G[-2].weight.data is net.D[0].weight.data"
   ]
  },
  {
   "cell_type": "markdown",
   "metadata": {},
   "source": [
    "Below: but on update of discriminator, generator _should_ update"
   ]
  },
  {
   "cell_type": "code",
   "execution_count": 25,
   "metadata": {},
   "outputs": [],
   "source": [
    "net.D[0].weight.data[0:1,] = 9\n",
    "\n",
    "assert torch.equal(net.D[0].weight.data[0:1,], net.G[-2].weight.data.transpose(1,0)[0:1,])"
   ]
  },
  {
   "cell_type": "markdown",
   "metadata": {},
   "source": [
    "Below: but forcing a chage to `net.G` does update."
   ]
  },
  {
   "cell_type": "code",
   "execution_count": 26,
   "metadata": {},
   "outputs": [],
   "source": [
    "net.G[-2].weight.data[:,0] = 9\n",
    "\n",
    "assert torch.equal(net.D[0].weight.data[0:1,], net.G[-2].weight.data.transpose(1,0)[0:1,])"
   ]
  },
  {
   "cell_type": "markdown",
   "metadata": {},
   "source": [
    "# Train Net and Assert Weights"
   ]
  },
  {
   "cell_type": "code",
   "execution_count": 54,
   "metadata": {
    "scrolled": true
   },
   "outputs": [
    {
     "name": "stderr",
     "output_type": "stream",
     "text": [
      "100%|██████████| 5/5 [00:02<00:00,  2.31it/s]\n"
     ]
    },
    {
     "data": {
      "image/png": "[encoded data removed]",
      "text/plain": [
       "<Figure size 288x288 with 1 Axes>"
      ]
     },
     "metadata": {
      "needs_background": "light"
     },
     "output_type": "display_data"
    }
   ],
   "source": [
    "img_size = 28\n",
    "net = MyNet(img_size, latent_dim=8)#.to(device)\n",
    "\n",
    "g_init = net.G[-2].weight.data\n",
    "d_init = net.D[0].weight.data\n",
    "\n",
    "optimizer = torch.optim.Adam(net.parameters(), lr=0.001)\n",
    "checkpoints = False\n",
    "path = os.path.join(DATADIR, f\"mnist-debug-{len(dl)}-checkpoint.pt\")\n",
    "\n",
    "net.learn(dl, \n",
    "          optimizer=optimizer, \n",
    "          epochs=5, \n",
    "          beta=3., \n",
    "          checkpoints=checkpoints,\n",
    "          path=None)"
   ]
  },
  {
   "cell_type": "code",
   "execution_count": 55,
   "metadata": {},
   "outputs": [],
   "source": [
    "#.G[-2].weight.data = self.D[0]"
   ]
  },
  {
   "cell_type": "code",
   "execution_count": 56,
   "metadata": {},
   "outputs": [],
   "source": [
    "assert torch.equal(net.G[-2].weight.data.T, net.D[0].weight.data)\n",
    "assert torch.equal(net.G[-4].weight.data.T, net.D[2].weight.data)"
   ]
  },
  {
   "cell_type": "markdown",
   "metadata": {},
   "source": [
    "Again: `net.D` gradient indices are `0->2` (and bias at `0`).   while `net.G` gradients, are the reverse `-4 -> -2`.  "
   ]
  },
  {
   "cell_type": "code",
   "execution_count": 57,
   "metadata": {
    "scrolled": true
   },
   "outputs": [
    {
     "name": "stdout",
     "output_type": "stream",
     "text": [
      "for i=-2, j=0\n",
      "for i=-4, j=2\n"
     ]
    }
   ],
   "source": [
    "d = [0, 2]\n",
    "g = [-2,-4]\n",
    "\n",
    "\n",
    "for i,j in zip(g,d):\n",
    "    print(f\"for {i=}, {j=}\")\n",
    "    assert torch.equal(net.G[i].weight.data, net.D[j].weight.data.T)"
   ]
  },
  {
   "cell_type": "code",
   "execution_count": 58,
   "metadata": {
    "scrolled": true
   },
   "outputs": [
    {
     "data": {
      "text/plain": [
       "tensor([[ 0.0303, -0.0399, -0.0260, -0.0038,  0.0216],\n",
       "        [ 0.0122, -0.0238, -0.0233, -0.0348, -0.0411],\n",
       "        [-0.0105, -0.0353, -0.0351, -0.0294, -0.0014],\n",
       "        [-0.0173,  0.0119,  0.0218,  0.0241, -0.0204],\n",
       "        [-0.0292, -0.0383,  0.0259, -0.0083, -0.0353]])"
      ]
     },
     "execution_count": 58,
     "metadata": {},
     "output_type": "execute_result"
    }
   ],
   "source": [
    "net.G[-2].weight.data[:5,:5]"
   ]
  },
  {
   "cell_type": "code",
   "execution_count": 59,
   "metadata": {},
   "outputs": [
    {
     "data": {
      "text/plain": [
       "tensor([[ 0.0303,  0.0122, -0.0105, -0.0173, -0.0292],\n",
       "        [-0.0399, -0.0238, -0.0353,  0.0119, -0.0383],\n",
       "        [-0.0260, -0.0233, -0.0351,  0.0218,  0.0259],\n",
       "        [-0.0038, -0.0348, -0.0294,  0.0241, -0.0083],\n",
       "        [ 0.0216, -0.0411, -0.0014, -0.0204, -0.0353]])"
      ]
     },
     "execution_count": 59,
     "metadata": {},
     "output_type": "execute_result"
    }
   ],
   "source": [
    "net.D[0].weight.data[:5,:5]"
   ]
  },
  {
   "cell_type": "code",
   "execution_count": 60,
   "metadata": {},
   "outputs": [
    {
     "ename": "AssertionError",
     "evalue": "",
     "output_type": "error",
     "traceback": [
      "\u001b[0;31m---------------------------------------------------------------------------\u001b[0m",
      "\u001b[0;31mAssertionError\u001b[0m                            Traceback (most recent call last)",
      "\u001b[0;32m<ipython-input-60-c2ca950c601e>\u001b[0m in \u001b[0;36m<module>\u001b[0;34m\u001b[0m\n\u001b[0;32m----> 1\u001b[0;31m \u001b[0;32massert\u001b[0m \u001b[0;32mnot\u001b[0m \u001b[0mtorch\u001b[0m\u001b[0;34m.\u001b[0m\u001b[0mequal\u001b[0m\u001b[0;34m(\u001b[0m\u001b[0mg_init\u001b[0m\u001b[0;34m,\u001b[0m \u001b[0mnet\u001b[0m\u001b[0;34m.\u001b[0m\u001b[0mG\u001b[0m\u001b[0;34m[\u001b[0m\u001b[0;34m-\u001b[0m\u001b[0;36m2\u001b[0m\u001b[0;34m]\u001b[0m\u001b[0;34m.\u001b[0m\u001b[0mweight\u001b[0m\u001b[0;34m.\u001b[0m\u001b[0mdata\u001b[0m\u001b[0;34m)\u001b[0m\u001b[0;34m\u001b[0m\u001b[0;34m\u001b[0m\u001b[0m\n\u001b[0m",
      "\u001b[0;31mAssertionError\u001b[0m: "
     ]
    }
   ],
   "source": [
    "assert not torch.equal(g_init, net.G[-2].weight.data)"
   ]
  },
  {
   "cell_type": "code",
   "execution_count": 61,
   "metadata": {},
   "outputs": [
    {
     "ename": "AssertionError",
     "evalue": "",
     "output_type": "error",
     "traceback": [
      "\u001b[0;31m---------------------------------------------------------------------------\u001b[0m",
      "\u001b[0;31mAssertionError\u001b[0m                            Traceback (most recent call last)",
      "\u001b[0;32m<ipython-input-61-525d96ece44b>\u001b[0m in \u001b[0;36m<module>\u001b[0;34m\u001b[0m\n\u001b[0;32m----> 1\u001b[0;31m \u001b[0;32massert\u001b[0m \u001b[0;32mnot\u001b[0m \u001b[0mtorch\u001b[0m\u001b[0;34m.\u001b[0m\u001b[0mequal\u001b[0m\u001b[0;34m(\u001b[0m\u001b[0md_init\u001b[0m\u001b[0;34m,\u001b[0m \u001b[0mnet\u001b[0m\u001b[0;34m.\u001b[0m\u001b[0mD\u001b[0m\u001b[0;34m[\u001b[0m\u001b[0;36m0\u001b[0m\u001b[0;34m]\u001b[0m\u001b[0;34m.\u001b[0m\u001b[0mweight\u001b[0m\u001b[0;34m.\u001b[0m\u001b[0mdata\u001b[0m\u001b[0;34m)\u001b[0m\u001b[0;34m\u001b[0m\u001b[0;34m\u001b[0m\u001b[0m\n\u001b[0m",
      "\u001b[0;31mAssertionError\u001b[0m: "
     ]
    }
   ],
   "source": [
    "assert not torch.equal(d_init, net.D[0].weight.data)"
   ]
  },
  {
   "cell_type": "markdown",
   "metadata": {},
   "source": [
    "## Check object IDs\n",
    "\n",
    "and maybe memory location"
   ]
  },
  {
   "cell_type": "markdown",
   "metadata": {},
   "source": [
    "note: ID is of the pointer, not the object, it seems."
   ]
  },
  {
   "cell_type": "code",
   "execution_count": 62,
   "metadata": {},
   "outputs": [
    {
     "data": {
      "text/plain": [
       "5154044608"
      ]
     },
     "execution_count": 62,
     "metadata": {},
     "output_type": "execute_result"
    }
   ],
   "source": [
    "id(net.G[-2].weight.data)"
   ]
  },
  {
   "cell_type": "code",
   "execution_count": 63,
   "metadata": {},
   "outputs": [
    {
     "data": {
      "text/plain": [
       "5273599040"
      ]
     },
     "execution_count": 63,
     "metadata": {},
     "output_type": "execute_result"
    }
   ],
   "source": [
    "id(net.D[0].weight.data)"
   ]
  },
  {
   "cell_type": "code",
   "execution_count": 64,
   "metadata": {},
   "outputs": [
    {
     "data": {
      "text/plain": [
       "torch.Size([1, 100])"
      ]
     },
     "execution_count": 64,
     "metadata": {},
     "output_type": "execute_result"
    }
   ],
   "source": [
    "net.G[-2].weight.data[0:1,].shape"
   ]
  },
  {
   "cell_type": "code",
   "execution_count": 65,
   "metadata": {},
   "outputs": [
    {
     "data": {
      "text/plain": [
       "torch.Size([1, 100])"
      ]
     },
     "execution_count": 65,
     "metadata": {},
     "output_type": "execute_result"
    }
   ],
   "source": [
    "net.D[0].weight.data[:,0:1].T.shape"
   ]
  },
  {
   "cell_type": "markdown",
   "metadata": {},
   "source": [
    "# Check Training Checkpoints\n",
    "\n",
    "Does generator update through training?"
   ]
  },
  {
   "cell_type": "code",
   "execution_count": 67,
   "metadata": {},
   "outputs": [
    {
     "name": "stderr",
     "output_type": "stream",
     "text": [
      "100%|██████████| 50/50 [00:22<00:00,  2.24it/s]\n"
     ]
    }
   ],
   "source": [
    "img_size = 28\n",
    "net = MyNet(img_size, latent_dim=8)#.to(device)\n",
    "\n",
    "g_init = net.G[-2].weight.data\n",
    "d_init = net.D[0].weight.data\n",
    "assert torch.equal(d_init, g_init.transpose(1,0))\n",
    "\n",
    "optimizer = torch.optim.Adam(net.parameters(), lr=0.001)\n",
    "checkpoints = [0,1,5,10,20,49]\n",
    "path = os.path.join(DATADIR, f\"debug-train-{len(ds)}-checkpoint.pt\")\n",
    "\n",
    "net.learn(dl, \n",
    "          optimizer=optimizer, \n",
    "          epochs=50, \n",
    "          beta=3., \n",
    "          checkpoints=checkpoints,\n",
    "          path=path,\n",
    "          plot_loss=False)"
   ]
  },
  {
   "cell_type": "code",
   "execution_count": 69,
   "metadata": {},
   "outputs": [
    {
     "name": "stdout",
     "output_type": "stream",
     "text": [
      "plotting epochs: tensor([[-0.0089, -0.0239, -0.0227, -0.0272, -0.0337],\n",
      "        [ 0.0197, -0.0265,  0.0165, -0.0140, -0.0190],\n",
      "        [-0.0180,  0.0212,  0.0101,  0.0297, -0.0250],\n",
      "        [-0.0226,  0.0224,  0.0139, -0.0244, -0.0280],\n",
      "        [-0.0210,  0.0255,  0.0041,  0.0239, -0.0308]])\n",
      "tensor([[-0.0089, -0.0239, -0.0227, -0.0272, -0.0337],\n",
      "        [ 0.0197, -0.0265,  0.0165, -0.0140, -0.0190],\n",
      "        [-0.0180,  0.0212,  0.0101,  0.0297, -0.0250],\n",
      "        [-0.0226,  0.0224,  0.0139, -0.0244, -0.0280],\n",
      "        [-0.0210,  0.0255,  0.0041,  0.0239, -0.0308]])\n",
      "tensor([[-0.0089, -0.0239, -0.0227, -0.0272, -0.0337],\n",
      "        [ 0.0197, -0.0265,  0.0165, -0.0140, -0.0190],\n",
      "        [-0.0180,  0.0212,  0.0101,  0.0297, -0.0250],\n",
      "        [-0.0226,  0.0224,  0.0139, -0.0244, -0.0280],\n",
      "        [-0.0210,  0.0255,  0.0041,  0.0239, -0.0308]])\n",
      "tensor([[-0.0089, -0.0239, -0.0227, -0.0272, -0.0337],\n",
      "        [ 0.0197, -0.0265,  0.0165, -0.0140, -0.0190],\n",
      "        [-0.0180,  0.0212,  0.0102,  0.0297, -0.0250],\n",
      "        [-0.0226,  0.0224,  0.0139, -0.0244, -0.0280],\n",
      "        [-0.0210,  0.0255,  0.0041,  0.0239, -0.0308]])\n",
      "tensor([[-0.0089, -0.0239, -0.0227, -0.0272, -0.0337],\n",
      "        [ 0.0197, -0.0265,  0.0165, -0.0140, -0.0190],\n",
      "        [-0.0180,  0.0212,  0.0101,  0.0297, -0.0250],\n",
      "        [-0.0226,  0.0224,  0.0139, -0.0244, -0.0280],\n",
      "        [-0.0210,  0.0255,  0.0041,  0.0239, -0.0308]])\n",
      "tensor([[-0.0089, -0.0239, -0.0227, -0.0272, -0.0337],\n",
      "        [ 0.0197, -0.0265,  0.0165, -0.0140, -0.0190],\n",
      "        [-0.0180,  0.0212,  0.0101,  0.0297, -0.0250],\n",
      "        [-0.0226,  0.0224,  0.0139, -0.0244, -0.0280],\n",
      "        [-0.0210,  0.0255,  0.0041,  0.0239, -0.0308]])\n"
     ]
    }
   ],
   "source": [
    "paths = [filepath.absolute() for filepath in pathlib.Path(DATADIR).glob(\"debug-*.pt\")]\n",
    "model = copy.deepcopy(net)    # just in case, don't mess with net obj\n",
    "\n",
    "# history of net.G[-2]\n",
    "g_history = []\n",
    "d_history = []\n",
    "print(\"plotting epochs:\", end=\" \")\n",
    "for path in paths:\n",
    "    \n",
    "    # load model checkpoint\n",
    "    checkpoint = torch.load(path)\n",
    "    model.load_state_dict(checkpoint['model_state_dict'])\n",
    "    optimizer.load_state_dict(checkpoint['optimizer_state_dict'])\n",
    "    epoch = checkpoint['epoch']\n",
    "    model.eval()\n",
    "\n",
    "    g_checkpoint = model.G[-2].weight.data\n",
    "    d_checkpoint = model.D[0].weight.data\n",
    "    \n",
    "    g_history.append(g_checkpoint)\n",
    "    d_history.append(d_checkpoint)\n",
    "    \n",
    "    # draw grad subplot line\n",
    "    #print(f\"{epoch}\", end=\", \")\n",
    "    #draw(torch.sign(x.grad[:10]))\n",
    "    \n",
    "    #draw(g_checkpoint, img_size=(784,100))\n",
    "    \n",
    "    print(g_checkpoint[:5,:5])"
   ]
  },
  {
   "cell_type": "code",
   "execution_count": 70,
   "metadata": {},
   "outputs": [],
   "source": [
    "assert torch.equal(d_init, g_init.transpose(1,0)) # passes on network instantiation above"
   ]
  },
  {
   "cell_type": "markdown",
   "metadata": {},
   "source": [
    "above: since `d_init` and `g_init` are pointers to the network's respective tensors, the assert passing on instantiation, but failing after training (again) indicates that the two matrices diverge throughout training."
   ]
  },
  {
   "cell_type": "code",
   "execution_count": 71,
   "metadata": {},
   "outputs": [
    {
     "name": "stdout",
     "output_type": "stream",
     "text": [
      "i = 0\n",
      "i = 1\n",
      "i = 2\n",
      "i = 3\n",
      "i = 4\n",
      "i = 5\n"
     ]
    }
   ],
   "source": [
    "for i in range(len(d_history)):\n",
    "    print(f\"{i = }\")\n",
    "    assert torch.equal(d_history[i], g_history[i].transpose(1,0))"
   ]
  },
  {
   "cell_type": "code",
   "execution_count": null,
   "metadata": {},
   "outputs": [],
   "source": []
  },
  {
   "cell_type": "markdown",
   "metadata": {},
   "source": [
    "Check again with higher gradients"
   ]
  },
  {
   "cell_type": "code",
   "execution_count": 72,
   "metadata": {},
   "outputs": [
    {
     "name": "stdout",
     "output_type": "stream",
     "text": [
      "plotting epochs: tensor([[-0.1966, -0.2293, -0.3648,  0.2637, -0.1843],\n",
      "        [ 0.1680,  0.1833, -0.1726,  0.0464,  0.1053],\n",
      "        [ 0.0085,  0.1677,  0.0332,  0.0990,  0.0528],\n",
      "        [-0.0367,  0.0930, -0.1173,  0.0795, -0.1300],\n",
      "        [ 0.2456, -0.0733,  0.2642,  0.1954,  0.0523]])\n",
      "tensor([[-0.2506, -0.2061, -0.3915,  0.2760, -0.1978],\n",
      "        [ 0.1741,  0.1800, -0.1576,  0.0354,  0.0914],\n",
      "        [ 0.0259,  0.1765,  0.0611,  0.1270,  0.0684],\n",
      "        [-0.0077,  0.1196, -0.0519,  0.1385, -0.0982],\n",
      "        [ 0.1490, -0.0926,  0.2355,  0.1523, -0.0211]])\n",
      "tensor([[-0.1977, -0.1555, -0.3723,  0.2570, -0.1783],\n",
      "        [ 0.1672,  0.1783, -0.1513,  0.0343,  0.0874],\n",
      "        [ 0.0153,  0.1844,  0.0623,  0.1371,  0.0614],\n",
      "        [-0.0171,  0.1323, -0.0500,  0.1716, -0.0960],\n",
      "        [ 0.1164, -0.0882,  0.2084,  0.1642, -0.0423]])\n",
      "tensor([[-0.0876, -0.0856, -0.1001,  0.0693, -0.0290],\n",
      "        [ 0.1082,  0.1299, -0.1303,  0.0372,  0.0408],\n",
      "        [ 0.0174,  0.1376,  0.0209,  0.1046,  0.0504],\n",
      "        [-0.0131,  0.0901, -0.0803,  0.1228, -0.0787],\n",
      "        [ 0.0902, -0.0702,  0.1185,  0.1153, -0.0013]])\n",
      "tensor([[-0.0876, -0.0855, -0.1001,  0.0693, -0.0291],\n",
      "        [ 0.1313,  0.1513, -0.1439,  0.0436,  0.0498],\n",
      "        [ 0.0162,  0.1582,  0.0267,  0.1283,  0.0578],\n",
      "        [-0.0220,  0.1147, -0.0823,  0.1597, -0.0974],\n",
      "        [ 0.1049, -0.0895,  0.1558,  0.1583, -0.0157]])\n",
      "tensor([[-0.1139, -0.1166, -0.2286,  0.1752, -0.0786],\n",
      "        [ 0.1568,  0.1745, -0.1517,  0.0367,  0.0750],\n",
      "        [ 0.0113,  0.1848,  0.0505,  0.1349,  0.0578],\n",
      "        [-0.0247,  0.1351, -0.0619,  0.1752, -0.0959],\n",
      "        [ 0.1162, -0.0826,  0.1930,  0.1785, -0.0359]])\n"
     ]
    }
   ],
   "source": [
    "paths = [filepath.absolute() for filepath in pathlib.Path(DATADIR).glob(\"debug-*.pt\")]\n",
    "model = copy.deepcopy(net)    # just in case, don't mess with net obj\n",
    "\n",
    "# history of net.G[-4]\n",
    "g_history = []\n",
    "d_history= []\n",
    "\n",
    "print(\"plotting epochs:\", end=\" \")\n",
    "for path in paths:\n",
    "    \n",
    "    # load model checkpoint\n",
    "    checkpoint = torch.load(path)\n",
    "    model.load_state_dict(checkpoint['model_state_dict'])\n",
    "    optimizer.load_state_dict(checkpoint['optimizer_state_dict'])\n",
    "    epoch = checkpoint['epoch']\n",
    "    model.eval()\n",
    "\n",
    "    g_checkpoint = model.G[-4].weight.data\n",
    "    d_checkpint = model.D[0].weight.data\n",
    "    \n",
    "    # draw grad subplot line\n",
    "    #print(f\"{epoch}\", end=\", \")\n",
    "    #draw(torch.sign(x.grad[:10]))\n",
    "    \n",
    "    #draw(g_checkpoint, img_size=(100,8))\n",
    "    print(g_checkpoint[:5,:5])"
   ]
  },
  {
   "cell_type": "markdown",
   "metadata": {},
   "source": [
    "# Check on Arbitrary Tensors\n",
    "\n",
    "**Shows**: that referencing a torch tensor pointer can work, update, and not create a copy"
   ]
  },
  {
   "cell_type": "code",
   "execution_count": 73,
   "metadata": {},
   "outputs": [],
   "source": [
    "a = torch.rand((2,4))\n",
    "b = a.transpose(1,0)"
   ]
  },
  {
   "cell_type": "code",
   "execution_count": 74,
   "metadata": {},
   "outputs": [
    {
     "name": "stdout",
     "output_type": "stream",
     "text": [
      "5273574656\n",
      "5273571776\n"
     ]
    }
   ],
   "source": [
    "print(id(a))\n",
    "print(id(b))"
   ]
  },
  {
   "cell_type": "code",
   "execution_count": 75,
   "metadata": {},
   "outputs": [
    {
     "data": {
      "text/plain": [
       "tensor([[0.2799, 0.9431, 0.6120, 0.8675],\n",
       "        [0.0854, 0.4129, 0.5539, 0.3627]])"
      ]
     },
     "execution_count": 75,
     "metadata": {},
     "output_type": "execute_result"
    }
   ],
   "source": [
    "a"
   ]
  },
  {
   "cell_type": "code",
   "execution_count": 76,
   "metadata": {},
   "outputs": [],
   "source": [
    "a[0,:] = 9\n",
    "b\n",
    "assert torch.equal(b[:,0], torch.tensor([9.]*4))"
   ]
  },
  {
   "cell_type": "code",
   "execution_count": 77,
   "metadata": {},
   "outputs": [
    {
     "data": {
      "text/plain": [
       "tensor([9, 9, 9, 9])"
      ]
     },
     "execution_count": 77,
     "metadata": {},
     "output_type": "execute_result"
    }
   ],
   "source": [
    " torch.tensor([9]*4)"
   ]
  },
  {
   "cell_type": "code",
   "execution_count": 78,
   "metadata": {},
   "outputs": [
    {
     "data": {
      "text/plain": [
       "tensor([9., 9., 9., 9.])"
      ]
     },
     "execution_count": 78,
     "metadata": {},
     "output_type": "execute_result"
    }
   ],
   "source": [
    "b[:,0]"
   ]
  },
  {
   "cell_type": "code",
   "execution_count": 79,
   "metadata": {
    "scrolled": true
   },
   "outputs": [
    {
     "data": {
      "text/plain": [
       "True"
      ]
     },
     "execution_count": 79,
     "metadata": {},
     "output_type": "execute_result"
    }
   ],
   "source": [
    "torch.equal(a, b.transpose(1,0))"
   ]
  },
  {
   "cell_type": "markdown",
   "metadata": {},
   "source": [
    "# Fix"
   ]
  },
  {
   "cell_type": "code",
   "execution_count": 80,
   "metadata": {},
   "outputs": [
    {
     "data": {
      "text/plain": [
       "5274355392"
      ]
     },
     "execution_count": 80,
     "metadata": {},
     "output_type": "execute_result"
    }
   ],
   "source": [
    "id(net.G[-2].__dict__['_parameters']['weight'].data)"
   ]
  },
  {
   "cell_type": "code",
   "execution_count": 81,
   "metadata": {},
   "outputs": [
    {
     "data": {
      "text/plain": [
       "5274304256"
      ]
     },
     "execution_count": 81,
     "metadata": {},
     "output_type": "execute_result"
    }
   ],
   "source": [
    "id(net.D[2].__dict__['_parameters']['weight'].data)"
   ]
  },
  {
   "cell_type": "code",
   "execution_count": 82,
   "metadata": {
    "scrolled": true
   },
   "outputs": [
    {
     "data": {
      "text/plain": [
       "tensor([[-0.0089, -0.0239, -0.0227,  ..., -0.0078,  0.0021, -0.0294],\n",
       "        [ 0.0197, -0.0265,  0.0165,  ...,  0.0134,  0.0241,  0.0060],\n",
       "        [-0.0180,  0.0212,  0.0101,  ..., -0.0050,  0.0018, -0.0182],\n",
       "        ...,\n",
       "        [ 0.0247,  0.0205,  0.0153,  ...,  0.0272, -0.0012,  0.0241],\n",
       "        [-0.0069,  0.0233, -0.0404,  ...,  0.0079, -0.0254,  0.0142],\n",
       "        [-0.0072,  0.0029, -0.0076,  ..., -0.0167, -0.0380,  0.0052]])"
      ]
     },
     "execution_count": 82,
     "metadata": {},
     "output_type": "execute_result"
    }
   ],
   "source": [
    "net.G[-2].__dict__['_parameters']['weight'].data"
   ]
  },
  {
   "cell_type": "code",
   "execution_count": null,
   "metadata": {},
   "outputs": [],
   "source": []
  },
  {
   "cell_type": "code",
   "execution_count": null,
   "metadata": {},
   "outputs": [],
   "source": []
  }
 ],
 "metadata": {
  "kernelspec": {
   "display_name": "adv",
   "language": "python",
   "name": "adv"
  },
  "language_info": {
   "codemirror_mode": {
    "name": "ipython",
    "version": 3
   },
   "file_extension": ".py",
   "mimetype": "text/x-python",
   "name": "python",
   "nbconvert_exporter": "python",
   "pygments_lexer": "ipython3",
   "version": "3.9.2"
  }
 },
 "nbformat": 4,
 "nbformat_minor": 4
}
